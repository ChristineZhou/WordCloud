{
 "cells": [
  {
   "cell_type": "code",
   "execution_count": null,
   "metadata": {},
   "outputs": [],
   "source": [
    "# Start with loading all necessary libraries\n",
    "import numpy as np\n",
    "import pandas as pd\n",
    "from os import path\n",
    "from PIL import Image\n",
    "from wordcloud import WordCloud, STOPWORDS, ImageColorGenerator\n",
    "\n",
    "import matplotlib.pyplot as plt\n",
    "#% matplotlib inline\n",
    "\n",
    "import warnings\n",
    "\n",
    "import string\n",
    "warnings.filterwarnings(\"ignore\")\n",
    "\n",
    "from nltk.tokenize import sent_tokenize, word_tokenize\n",
    "\n",
    "#This is for stemming\n",
    "from nltk.stem import PorterStemmer\n",
    "from nltk.stem import LancasterStemmer\n",
    "\n",
    "# dowloading packages using the following commands\n",
    "import nltk\n",
    "nltk.download('punkt')\n",
    "#this is nltk stopword collection\n",
    "nltk.download('stopwords')\n",
    "nltk.download('wordnet')\n",
    "\n",
    "from nltk.corpus import stopwords \n",
    "from nltk.tokenize import word_tokenize\n",
    "\n",
    "from nltk.stem import WordNetLemmatizer \n",
    "import re\n"
   ]
  },
  {
   "cell_type": "code",
   "execution_count": null,
   "metadata": {},
   "outputs": [],
   "source": [
    "#Loading the the data set from excel\n",
    "df = pd.read_excel(\"D:/SimplyAnalytics/WordCloud/SMSDataset.xlsx\")"
   ]
  },
  {
   "cell_type": "code",
   "execution_count": null,
   "metadata": {},
   "outputs": [],
   "source": [
    "#Viewing the loaded dataframe\n",
    "df"
   ]
  },
  {
   "cell_type": "code",
   "execution_count": null,
   "metadata": {},
   "outputs": [],
   "source": [
    "# Filtering it for Spam messages only\n",
    "df2 = df.Classification.str.contains('Spam')\n",
    "spamdf = df[df2]\n",
    "\n",
    "spec_chars = [\"!\",'\"',\"#\",\"%\",\"&\",\"'\",\"(\",\")\",\n",
    "              \"*\",\"+\",\",\",\"-\",\".\",\"/\",\":\",\";\",\"<\",\n",
    "              \"=\",\">\",\"?\",\"@\",\"[\",\"\\\\\",\"]\",\"^\",\"_\",\n",
    "              \"`\",\"{\",\"|\",\"}\",\"~\",\"–\",\"£\"]\n",
    "\n",
    "for char in spec_chars:\n",
    "    spamdf['Text'] = spamdf['Text'].str.replace(char, ' ')\n",
    "\n",
    "#Coverting the data frame to list of strings\n",
    "dfList = spamdf['Text'].astype(str).values.tolist()\n",
    "# using list comprehension to make the list of Strings to one string \n",
    "listString = ' '.join([str(elem) for elem in dfList]) \n",
    "\n",
    "#Applying the stemming by creating Stemmers\n",
    "porter = PorterStemmer()\n",
    "lemmatizer = WordNetLemmatizer() \n",
    "   \n",
    "words = word_tokenize(listString)\n",
    "\n",
    "lemmatized = ''\n",
    "stemmed = ''\n",
    "   \n",
    "for w in words:\n",
    "    temp = w.lower()\n",
    "    temp = temp.strip()\n",
    "    temp = temp.replace('\\d+', '')\n",
    "    temp = re.sub(r'\\btxt\\b', 'text', temp)\n",
    "    temp = re.sub(r'\\bmsg\\b', 'message', temp)\n",
    "    temp = re.sub(r'\\bur\\b', 'your', temp)\n",
    "    stemmed = stemmed + porter.stem(temp) + \" \";\n",
    "    lemmatized =lemmatized + lemmatizer.lemmatize(temp) + \" \";\n",
    "   \n",
    "    \n",
    "print(stemmed)\n",
    "print(lemmatized)\n"
   ]
  },
  {
   "cell_type": "code",
   "execution_count": null,
   "metadata": {},
   "outputs": [],
   "source": [
    "# Create stopword list:\n",
    "stopwords_wc = set(STOPWORDS)\n",
    "stopwords_wc.update([\"landline\"])\n",
    "print(stopwords_wc)"
   ]
  },
  {
   "cell_type": "code",
   "execution_count": null,
   "metadata": {},
   "outputs": [],
   "source": [
    "# Generate a word cloud image with white background\n",
    "wordcloud = WordCloud(stopwords=stopwords_wc, background_color=\"white\", max_words=25).generate(stemmed)\n",
    "\n",
    "# Display the generated image:\n",
    "# the matplotlib way:\n",
    "plt.figure(figsize=(10,10))\n",
    "plt.imshow(wordcloud, interpolation='bilinear')\n",
    "#https://matplotlib.org/3.1.3/gallery/images_contours_and_fields/interpolation_methods.html\n",
    "plt.axis(\"off\")\n",
    "plt.show()"
   ]
  },
  {
   "cell_type": "code",
   "execution_count": null,
   "metadata": {},
   "outputs": [],
   "source": [
    "# Create and generate a word cloud image:\n",
    "wordcloud = WordCloud(stopwords=stopwords_wc,background_color=\"white\", max_words=25).generate(lemmatized)\n",
    "\n",
    "# Display the generated image:\n",
    "plt.figure(figsize=(10,10))\n",
    "plt.imshow(wordcloud, interpolation='bilinear')\n",
    "plt.axis(\"off\")\n",
    "plt.show()"
   ]
  }
 ],
 "metadata": {
  "kernelspec": {
   "display_name": "Python 3",
   "language": "python",
   "name": "python3"
  },
  "language_info": {
   "codemirror_mode": {
    "name": "ipython",
    "version": 3
   },
   "file_extension": ".py",
   "mimetype": "text/x-python",
   "name": "python",
   "nbconvert_exporter": "python",
   "pygments_lexer": "ipython3",
   "version": "3.7.3"
  }
 },
 "nbformat": 4,
 "nbformat_minor": 2
}
